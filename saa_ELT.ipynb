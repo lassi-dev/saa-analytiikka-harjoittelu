{
 "cells": [
  {
   "cell_type": "markdown",
   "id": "73117fca-19b1-4161-b730-2a33e3fb41df",
   "metadata": {},
   "source": [
    "# Säätietojen poiminta, lataus ja muuntaminen (ELT)\n",
    "\n",
    "Tämä ELT-prosessi hakee tietyn maantieteellisen paikan säätiedot Ilmatieteenlaitoksen rajapinnasta. Tiedot ladataan tietokantaan, jossa ne muokataan helpommin käsiteltävään tietomalliin.\n",
    "\n",
    "**Huom! Osa raskaammista proseduureista on kommentoituna oletuksena, jotta vältytään turhilta kyselyiltä Ilmatieteenlaitoksen API:in ja tarpeettomilta tietokannan uudelleen latauksilta.**"
   ]
  },
  {
   "cell_type": "markdown",
   "id": "f03faa6e-990c-4395-a093-ca40191e0052",
   "metadata": {},
   "source": [
    "Haettavien tietojen asetukset:"
   ]
  },
  {
   "cell_type": "code",
   "execution_count": 1,
   "id": "b3a44e49-636a-411d-b1be-d8b9cf4e2068",
   "metadata": {},
   "outputs": [],
   "source": [
    "#Paikka, jonka säätiedot haetaan\n",
    "input.place <- \"Helsinki\"\n",
    "\n",
    "#Aikaväli, jolta säätiedot haetaan (annettu kuukausi tulee lataukseen mukaan)\n",
    "input.starttime <- \"2021-01\"\n",
    "input.endtime <- \"2021-06\""
   ]
  },
  {
   "cell_type": "markdown",
   "id": "4450f1a8-5dd3-449c-978c-9145167839d9",
   "metadata": {},
   "source": [
    "## 1. Säätietojen poiminta (extract)\n",
    "\n",
    "Poimitaan säätiedot Ilmatieteenlaitoksen API:sta. Tiedot tulevat melko suurina XML-dokumentteina, jotka tallennetaan tiedostoihin muistin säästämiseksi."
   ]
  },
  {
   "cell_type": "code",
   "execution_count": 2,
   "id": "5d41081f-6a41-4ca2-9c61-4925cca0f746",
   "metadata": {},
   "outputs": [
    {
     "name": "stderr",
     "output_type": "stream",
     "text": [
      "Warning message:\n",
      "\"package 'XML' was built under R version 3.6.3\""
     ]
    }
   ],
   "source": [
    "#install.packages(\"XML\")\n",
    "library(XML)"
   ]
  },
  {
   "cell_type": "code",
   "execution_count": 3,
   "id": "99b5e367-2f35-4537-b584-f6e74bc77394",
   "metadata": {},
   "outputs": [],
   "source": [
    "# Parametrin muoto: 'YYYY-MM'\n",
    "# Palauttaa aikavälin jaettuna osiin dataframe:na, jossa sarakkeina starttimes ja endtimes.\n",
    "# Jokainen rivi on aikaväli, joka on riittävän lyhyt Ilmatieteenlaitoksen API:lle.\n",
    "common.get_apifriendly_time_intervals <- function(starttime, endtime) {\n",
    "    format_starttime <- function(month, year) { return (paste0(year, \"-\",formatC(month, width=2, flag=\"0\"),\"-01T02:00:00Z\")) }\n",
    "    format_endtime <- function(month, year) { return (paste0(year, \"-\",formatC(month, width=2, flag=\"0\"),\"-01T01:00:00Z\")) }\n",
    "    create_list_of_times <- function(months, years, formater) {\n",
    "        times <- c()\n",
    "        for (i in 1:length(months)) {\n",
    "            times <- append(times, formater(months[i], years[i]))\n",
    "        }\n",
    "        return (times)\n",
    "    }\n",
    "    \n",
    "    start.month <- as.integer(substring(starttime, 6, 7))\n",
    "    end.month <- as.integer(substring(endtime, 6, 7))\n",
    "    start.year <- as.integer(substring(starttime, 1, 4))\n",
    "    end.year <- as.integer(substring(endtime, 1, 4))\n",
    "    \n",
    "    if(end.year < start.year) {stop(\"Lopetusvuosi ei voi olla ennen aloitusvuotta.\")}\n",
    "    if(end.year == start.year & end.month < start.month) {stop(\"Lopetuaika ei voi olla ennen aloitusaikaa.\")}\n",
    "    \n",
    "    delta.years <- end.year - start.year\n",
    "    \n",
    "    template.months <- rep(1:12, times=(delta.years + 2))\n",
    "    starttimes.months <- template.months[start.month:(end.month+12*delta.years)]\n",
    "    endtimes.months <- template.months[(start.month+1):(end.month+1+12*delta.years)]\n",
    "    \n",
    "    template.years <- rep(start.year:(end.year+1), each=12)\n",
    "    endtimes.years <- template.years[(start.month+1):(end.month+1+12*delta.years)]\n",
    "    starttimes.years <- template.years[(start.month):(end.month+12*delta.years)]\n",
    "    \n",
    "    starttimes <- create_list_of_times(starttimes.months, starttimes.years, format_starttime)\n",
    "    endtimes <- create_list_of_times(endtimes.months, endtimes.years, format_endtime)\n",
    "    \n",
    "    return (data.frame(starttimes = starttimes, endtimes = endtimes))\n",
    "}\n",
    "\n",
    "common.get_filename <- function(place, starttime, endtime) {\n",
    "    return (paste0(\"saatiedot_\", place, \"_\", gsub(\":\", \"\", starttime), \"_\", gsub(\":\", \"\", endtime), \".xml\"))\n",
    "}\n",
    "\n",
    "common.add_filepath <- function(filename) {\n",
    "    return (paste( \".\\\\loaded_data\\\\\", filename, sep=\"\"))\n",
    "}"
   ]
  },
  {
   "cell_type": "markdown",
   "id": "bfe1de77-3930-4a9e-b411-a020e551aab7",
   "metadata": {},
   "source": [
    "Data täytyy poimia osissa Ilmatieteenlaitoksen API:n rajoitusten takia"
   ]
  },
  {
   "cell_type": "code",
   "execution_count": 4,
   "id": "0999a8d2-961a-41bc-b9e7-57d9d359195b",
   "metadata": {},
   "outputs": [],
   "source": [
    "extract <- function(times, place) {\n",
    "    #Päivämäärien muoto: YYYY-MM-DDTHH24:MI:SSZ\n",
    "    create_source_url <- function(place, starttime, endtime) {\n",
    "        return (paste(\n",
    "                    \"http://opendata.fmi.fi/wfs/fin?service=WFS&version=2.0.0&request=GetFeature\"\n",
    "                    , \"&storedquery_id=fmi::observations::weather::hourly::simple&place=\"\n",
    "                    , place\n",
    "                    , \"&starttime=\"\n",
    "                    , starttime\n",
    "                    , \"&endtime=\"\n",
    "                    , endtime\n",
    "                    , \"&\", sep=\"\"))\n",
    "    }\n",
    "\n",
    "    save_xml_from_url <- function(url, destination_file) {\n",
    "        xml.content <- xmlTreeParse(url)\n",
    "        saveXML(xmlRoot(xml.content), file=destination_file)\n",
    "    }\n",
    "    extract.starttime <- Sys.time()\n",
    "    \n",
    "    for (i in 1:nrow(times)) {\n",
    "        url <- create_source_url(place = place\n",
    "                                , starttime = as.character(times[[\"starttimes\"]][i])\n",
    "                                , endtime = as.character(times[[\"endtimes\"]][i]))\n",
    "        destination <- common.add_filepath(common.get_filename(place\n",
    "                                                                , as.character(times[[\"starttimes\"]][i])\n",
    "                                                                , as.character(times[[\"endtimes\"]][i])))\n",
    "        save_xml_from_url(url = url, destination_file = destination)\n",
    "    }\n",
    "    \n",
    "    extract.endtime <- Sys.time() \n",
    "    print(extract.endtime - extract.starttime)\n",
    "}"
   ]
  },
  {
   "cell_type": "markdown",
   "id": "4773a243-ff29-4128-9bde-3333a87fd6f7",
   "metadata": {},
   "source": [
    "Proseduurin ajo on kommentoitu, jotta Ilmatieteenlaitos APIin kohdistuisi mahdollisimman vähän turhia kyselyitä.\n",
    "Poistetaan kommentointi, kun halutaan ladata tiedot."
   ]
  },
  {
   "cell_type": "code",
   "execution_count": 5,
   "id": "c2feb26c-64d6-495c-9612-de4564a0486c",
   "metadata": {},
   "outputs": [],
   "source": [
    "place <- input.place\n",
    "\n",
    "times <- common.get_apifriendly_time_intervals(input.starttime,input.endtime)\n",
    "\n",
    "#extract(times, place)"
   ]
  },
  {
   "cell_type": "markdown",
   "id": "8f4c5beb-33c6-4ac6-b3f0-654dcac24082",
   "metadata": {},
   "source": [
    "## 2.Säätietojen lataaminen (load)\n",
    "> TODO: tallennetaan xml-dokumentit tietokantaan levyn sijaan, jolloin ne on helpommin saatavilla myöhempää käyttöä varten"
   ]
  },
  {
   "cell_type": "markdown",
   "id": "0d0aeff9-bd9f-489f-8286-e65235fea2ca",
   "metadata": {},
   "source": [
    "---"
   ]
  },
  {
   "cell_type": "markdown",
   "id": "b4c53406-7ae7-47da-8420-f41a7407b313",
   "metadata": {},
   "source": [
    "## 3. Tietojen muuntaminen (transform)\n",
    "Muunnetaan tiedot helpommin käsiteltävään tietomalliin. Tässä tarkoituksena on selväkielistää säätiedoissa olevat koodit ja muodostaa taulu, jonka jyvänä on kaikki yhden tunnin sisällä tehdyt mittaukset."
   ]
  },
  {
   "cell_type": "code",
   "execution_count": 6,
   "id": "7584c0fa-f240-4607-9cd7-489bd3e696ed",
   "metadata": {},
   "outputs": [
    {
     "name": "stderr",
     "output_type": "stream",
     "text": [
      "Warning message:\n",
      "\"package 'odbc' was built under R version 3.6.3\"\n",
      "Attaching package: 'dplyr'\n",
      "\n",
      "The following objects are masked from 'package:stats':\n",
      "\n",
      "    filter, lag\n",
      "\n",
      "The following objects are masked from 'package:base':\n",
      "\n",
      "    intersect, setdiff, setequal, union\n",
      "\n"
     ]
    }
   ],
   "source": [
    "#install.packages(\"odbc\")\n",
    "library(odbc)\n",
    "library(dplyr)"
   ]
  },
  {
   "cell_type": "markdown",
   "id": "49bf415b-9f6a-4f7a-ab58-8ae31dc5dc9f",
   "metadata": {},
   "source": [
    "Windows koneella lisättynä tietokantayhteys SQL Serveriin \"ODBC Data Sources\"-sovelluksesta. Tietokanta on valmiiksi luotuna."
   ]
  },
  {
   "cell_type": "code",
   "execution_count": 7,
   "id": "0f0653ff-7e4a-48f6-b6e2-d288bc0ad6db",
   "metadata": {},
   "outputs": [],
   "source": [
    "data_conn <- DBI::dbConnect(odbc::odbc(), \"DATASOURCE\", database = \"SaaDB\")"
   ]
  },
  {
   "cell_type": "markdown",
   "id": "62e2ec91-48f5-48d8-a53a-e34cb756c009",
   "metadata": {},
   "source": [
    "### 3.1 XML-dokumentin sisältö tietokantatauluun"
   ]
  },
  {
   "cell_type": "markdown",
   "id": "0b203bdf-2586-4486-bd95-73f3c2d52517",
   "metadata": {},
   "source": [
    "Luodaan tietokannan taulut"
   ]
  },
  {
   "cell_type": "code",
   "execution_count": 8,
   "id": "bb2444da-8b84-432d-8ddd-5d47242fbb50",
   "metadata": {},
   "outputs": [
    {
     "data": {
      "text/html": [
       "0"
      ],
      "text/latex": [
       "0"
      ],
      "text/markdown": [
       "0"
      ],
      "text/plain": [
       "[1] 0"
      ]
     },
     "metadata": {},
     "output_type": "display_data"
    },
    {
     "data": {
      "text/html": [
       "0"
      ],
      "text/latex": [
       "0"
      ],
      "text/markdown": [
       "0"
      ],
      "text/plain": [
       "[1] 0"
      ]
     },
     "metadata": {},
     "output_type": "display_data"
    }
   ],
   "source": [
    "create_table_saatiedot_raaka <- function() {\n",
    "    fields_raaka <- c('INT IDENTITY(1,1) NOT NULL', 'VARCHAR(50) NOT NULL', 'DATETIME NOT NULL', 'VARCHAR(20) NOT NULL', 'VARCHAR(20)')\n",
    "    names(fields_raaka) <- c('ID', 'PAIKKA', 'AIKA', 'PARAMETRIN_NIMI', 'PARAMETRIN_ARVO')\n",
    "    \n",
    "    DBI::dbCreateTable(data_conn, \"SAATIEDOT_RAAKA\", fields_raaka)\n",
    "    DBI::dbExecute(data_conn, 'ALTER TABLE SAATIEDOT_RAAKA ADD CONSTRAINT [SAATIEDOT_RAAKA_PK] PRIMARY KEY ([ID])')\n",
    "    }\n",
    "\n",
    "#Poista tarvittaessa taulu\n",
    "DBI::dbExecute(data_conn, 'DROP TABLE SAATIEDOT_RAAKA')\n",
    "create_table_saatiedot_raaka()"
   ]
  },
  {
   "cell_type": "markdown",
   "id": "6f2edd91-1166-4eac-b447-62c37b200fef",
   "metadata": {},
   "source": [
    "Haetaan tiedot XML-tiedostoista ja tallennetaan ne tauluun."
   ]
  },
  {
   "cell_type": "code",
   "execution_count": 9,
   "id": "99562608-030c-4cb6-b6b3-092cdca21880",
   "metadata": {},
   "outputs": [],
   "source": [
    "saatiedot_raaka <- DBI::dbReadTable(data_conn, \"SAATIEDOT_RAAKA\")\n",
    "# Id generoidaan taulussa automaattisesti [IDENTITY(1,1)], joten sitä ei täytetä täällä. Poistetaan se virheiden välttämiseksi.\n",
    "saatiedot_raaka <- subset(saatiedot_raaka, select=-c(ID))"
   ]
  },
  {
   "cell_type": "code",
   "execution_count": 10,
   "id": "d0428ab2-2119-4245-8eee-d31a3a5afce9",
   "metadata": {},
   "outputs": [],
   "source": [
    "#XML-dokumentissa käytetään nimiavaruuksia, joita tarvitaan dataa lukiessa.\n",
    "namespaces <- c(wfs='http://www.opengis.net/wfs/2.0', BsWfs='http://xml.fmi.fi/schema/wfs/2.0', gml='http://www.opengis.net/gml/3.2')"
   ]
  },
  {
   "cell_type": "code",
   "execution_count": 11,
   "id": "fd91cb73-878a-4c0f-9312-b20ee2db6e41",
   "metadata": {},
   "outputs": [
    {
     "name": "stdout",
     "output_type": "stream",
     "text": [
      "<BsWfs:BsWfsElement id=\"BsWfsElement.1.667.8\">\n",
      "  <BsWfs:Location>\n",
      "    <gml:Point id=\"BsWfsElementP.1.667.8\" srsDimension=\"2\" srsName=\"http://www.opengis.net/def/crs/EPSG/0/4258\">\n",
      "      <gml:pos>60.17523 24.94459</gml:pos>\n",
      "    </gml:Point>\n",
      "  </BsWfs:Location>\n",
      "  <BsWfs:Time>2021-01-28T20:00:00Z</BsWfs:Time>\n",
      "  <BsWfs:ParameterName>WD_PT1H_AVG</BsWfs:ParameterName>\n",
      "  <BsWfs:ParameterValue>50.0</BsWfs:ParameterValue>\n",
      "</BsWfs:BsWfsElement> \n"
     ]
    }
   ],
   "source": [
    "xml.content = xmlParse(file = common.add_filepath(common.get_filename(place\n",
    "                                                                , as.character(times[[\"starttimes\"]][1])\n",
    "                                                                , as.character(times[[\"endtimes\"]][1]))))\n",
    "rootnode = xmlRoot(xml.content)\n",
    "print(rootnode[[8000]][[1]])"
   ]
  },
  {
   "cell_type": "code",
   "execution_count": 12,
   "id": "fb888714-ee4c-40a1-a0a5-2f8bbda6ed3d",
   "metadata": {},
   "outputs": [],
   "source": [
    "format_time <- function(time) {\n",
    "    modified_time <- sub('T', ' ', time)\n",
    "    modified_time\n",
    "    } "
   ]
  },
  {
   "cell_type": "code",
   "execution_count": 13,
   "id": "fc08c539-f2a4-4175-a4ed-c5351e01d308",
   "metadata": {},
   "outputs": [],
   "source": [
    "load_data_to_dbtable <- function() {\n",
    "    load_starttime=Sys.time()\n",
    "\n",
    "    for (i in 1:nrow(times)) {\n",
    "        xml.content = xmlParse(file = common.add_filepath(common.get_filename(place\n",
    "                                                                , as.character(times[[\"starttimes\"]][i])\n",
    "                                                                , as.character(times[[\"endtimes\"]][i]))))\n",
    "        rootnode = xmlRoot(xml.content)\n",
    "        for (j in 1:xmlSize(rootnode)) {\n",
    "            result.time <- format_time(xpathApply(rootnode[[j]][[1]],path='BsWfs:Time',xmlValue,namespaces=namespaces))\n",
    "            result.location <- xpathApply(rootnode[[j]][[1]],path='BsWfs:Location//gml:Point//gml:pos',xmlValue,namespaces=namespaces)\n",
    "            result.parametername <- xpathApply(rootnode[[j]][[1]],path='BsWfs:ParameterName',xmlValue,namespaces=namespaces)\n",
    "            result.parametervalue <- xpathApply(rootnode[[j]][[1]],path='BsWfs:ParameterValue',xmlValue,namespaces=namespaces)\n",
    "\n",
    "            saatiedot_raaka[nrow(saatiedot_raaka)+1,] <- c(paikka=result.location, aika=result.time, parametrin_nimi=result.parametername, parametrin_arvo=result.parametervalue)\n",
    "\n",
    "            if(nrow(saatiedot_raaka) >= 1000) {\n",
    "                DBI::dbAppendTable(data_conn, \"SAATIEDOT_RAAKA\",saatiedot_raaka)\n",
    "                saatiedot_raaka <- subset(saatiedot_raaka, 1==0) \n",
    "            }\n",
    "        }\n",
    "    }\n",
    "    DBI::dbAppendTable(data_conn, \"SAATIEDOT_RAAKA\",saatiedot_raaka)\n",
    "\n",
    "    print(Sys.time() - load_starttime)\n",
    "    }\n",
    "\n",
    "#load_data_to_dbtable()"
   ]
  },
  {
   "cell_type": "markdown",
   "id": "18f92d14-436a-4c55-a482-a92c6cdc14b9",
   "metadata": {},
   "source": [
    "### 3.2 Tietomalli\n",
    "Muunnetaan suoraan XML-dokumentista haetut tiedot tietomalliin ja selväkielistetään koodit.\n",
    "\n",
    "#### Selitteet\n",
    "\n",
    "|Koodi         |Selite                           |Taulun attribuutti          |Yksikkö|\n",
    "|--------------|---------------------------------|----------------------------|-------|\n",
    "|PA_PT1H_AV    |Ilmanpaine keskiarvo             |ilmanpaine                  |hPa    |\n",
    "|PRA_PT1H_A    |Sademäärä                        |sademaara                   |mm     |\n",
    "|PRI_PT1H_M    |Sateen suurin intensiteetti      |sade_intensiteetti_maksimi  |mm/h   |\n",
    "|RH_PT1H_AV    |Suhteellinen kosteus keskiarvo   |suhteellinen_kosteus        |%      |\n",
    "|TA_PT1H_AV    |Ilman lämpötila keskiarvo        |lampotila                   |degC   |\n",
    "|TA_PT1H_MA    |Ilman lämpötila maksimi          |lampotila_maksimi           |degC   |\n",
    "|TA_PT1H_MI    |Ilman lämpötila minimi           |lampotila_minimi            |degC   |\n",
    "|WAWA_PT1H_    |Vallitseva sää                   |saa                         |       |\n",
    "|WD_PT1H_AV    |Tuulen suunta keskiarvo          |tuulen_suunta               |deg    |\n",
    "|WS_PT1H_AV    |Tuulen nopeus keskiarvo          |tuulen_nopeus               |m/s    |\n",
    "|WS_PT1H_MA    |Tuulen nopeus maksimi            |tuulen_nopeus_maksimi       |m/s    |\n",
    "|WS_PT1H_MI    |Tuulen nopeus minimi             |tuulen_nopeus_minimi        |m/s    |\n"
   ]
  },
  {
   "cell_type": "code",
   "execution_count": 14,
   "id": "e4c68b91-9333-452c-b701-57efd5fda137",
   "metadata": {},
   "outputs": [
    {
     "data": {
      "text/html": [
       "0"
      ],
      "text/latex": [
       "0"
      ],
      "text/markdown": [
       "0"
      ],
      "text/plain": [
       "[1] 0"
      ]
     },
     "metadata": {},
     "output_type": "display_data"
    }
   ],
   "source": [
    "create_empty_table_saatiedot <- function() {\n",
    "    DBI::dbExecute(data_conn, 'DROP TABLE IF EXISTS SAATIEDOT')\n",
    "    fields_raaka <- c('INT IDENTITY(1,1) NOT NULL', 'VARCHAR(50) NOT NULL', 'DATETIME NOT NULL'\n",
    "                      , 'VARCHAR(10)', 'VARCHAR(10)', 'VARCHAR(10)', 'VARCHAR(10)'\n",
    "                      , 'VARCHAR(10)', 'VARCHAR(10)', 'VARCHAR(10)', 'VARCHAR(10)'\n",
    "                      , 'VARCHAR(10)')\n",
    "    names(fields_raaka) <- c('ID', 'PAIKKA', 'AIKA'\n",
    "                             , 'ILMANPAINE', 'SUHTEELLINEN_KOSTEUS', 'LAMPOTILA', 'LAMPOTILA_MAKSIMI'\n",
    "                             , 'LAMPOTILA_MINIMI', 'TUULEN_SUUNTA', 'TUULEN_NOPEUS', 'TUULEN_NOPEUS_MAKSIMI'\n",
    "                             , 'TUULEN_NOPEUS_MINIMI')\n",
    "    \n",
    "    DBI::dbCreateTable(data_conn, \"SAATIEDOT\", fields_raaka)\n",
    "    DBI::dbExecute(data_conn, 'ALTER TABLE SAATIEDOT ADD CONSTRAINT [SAATIEDOT_PK] PRIMARY KEY ([ID])')\n",
    "    }\n",
    "\n",
    "create_empty_table_saatiedot()"
   ]
  },
  {
   "cell_type": "markdown",
   "id": "53cabee0-cc62-4cd1-8a16-63687383b4a4",
   "metadata": {},
   "source": [
    "## 4. Yksikkötestit\n",
    "Täällä on omien funktioiden yksikkötestit. Testin nimi muodossa \"test.funkiton_nimi\"."
   ]
  },
  {
   "cell_type": "code",
   "execution_count": 15,
   "id": "2a670b63-5194-4763-a0f2-04d5f9e6027e",
   "metadata": {},
   "outputs": [
    {
     "name": "stdout",
     "output_type": "stream",
     "text": [
      "[1] \"[1] TRUE\"\n",
      "[1] \"[2] TRUE\"\n",
      "[1] \"[3] TRUE\"\n",
      "[1] \"[4] TRUE\"\n",
      "[1] \"[5] TRUE\"\n",
      "[1] \"[6] TRUE\"\n",
      "[1] \"[7] TRUE\"\n",
      "[1] \"[8] TRUE\"\n",
      "[1] \"[9] TRUE\"\n",
      "[1] \"[10] TRUE\"\n",
      "[1] \"[11] TRUE\"\n",
      "[1] \"[12] TRUE\"\n",
      "[1] \"[13] TRUE\"\n",
      "[1] \"[14] TRUE\"\n",
      "[1] \"[15] TRUE\"\n",
      "[1] \"[16] TRUE\"\n",
      "[1] \"[17] TRUE\"\n",
      "[1] \"[18] TRUE\"\n",
      "[1] \"[19] TRUE\"\n",
      "[1] \"[20] TRUE\"\n",
      "[1] \"[21] TRUE\"\n",
      "[1] \"[22] TRUE\"\n",
      "[1] \"[23] TRUE\"\n",
      "[1] \"[24] TRUE\"\n"
     ]
    }
   ],
   "source": [
    "test.common.get_apifriendly_time_intervals <- function() {\n",
    "    #Tulos on data.frame\n",
    "    print(paste0(\"[1] \", is.data.frame(common.get_apifriendly_time_intervals(\"2021-01\", \"2021-02\"))))\n",
    "    \n",
    "    #Kun kuukausia on yksi\n",
    "    print(paste0(\"[2] \", identical(as.vector(common.get_apifriendly_time_intervals(\"2021-01\", \"2021-01\")[[\"starttimes\"]][[1]]), \"2021-01-01T02:00:00Z\")))\n",
    "    print(paste0(\"[3] \", identical(as.vector(common.get_apifriendly_time_intervals(\"2021-01\", \"2021-01\")[[\"endtimes\"]][[1]]), \"2021-02-01T01:00:00Z\")))\n",
    "    \n",
    "    #Kun kuukausia on kaksi\n",
    "    print(paste0(\"[4] \", identical(as.vector(common.get_apifriendly_time_intervals(\"2021-01\", \"2021-02\")[[\"starttimes\"]][[1]]), \"2021-01-01T02:00:00Z\")))\n",
    "    print(paste0(\"[5] \", identical(as.vector(common.get_apifriendly_time_intervals(\"2021-01\", \"2021-02\")[[\"endtimes\"]][[1]]), \"2021-02-01T01:00:00Z\")))\n",
    "    print(paste0(\"[6] \", identical(as.vector(common.get_apifriendly_time_intervals(\"2021-01\", \"2021-02\")[[\"starttimes\"]][[2]]), \"2021-02-01T02:00:00Z\")))\n",
    "    print(paste0(\"[7] \", identical(as.vector(common.get_apifriendly_time_intervals(\"2021-01\", \"2021-02\")[[\"endtimes\"]][[2]]), \"2021-03-01T01:00:00Z\")))\n",
    "    \n",
    "    #Kun aloituskuukausi on eri\n",
    "    print(paste0(\"[8] \", identical(as.vector(common.get_apifriendly_time_intervals(\"2021-02\", \"2021-02\")[[\"starttimes\"]][[1]]), \"2021-02-01T02:00:00Z\")))\n",
    "    print(paste0(\"[9] \", identical(as.vector(common.get_apifriendly_time_intervals(\"2021-02\", \"2021-03\")[[\"starttimes\"]][[1]]), \"2021-02-01T02:00:00Z\")))\n",
    "    print(paste0(\"[10] \", identical(as.vector(common.get_apifriendly_time_intervals(\"2021-02\", \"2021-03\")[[\"endtimes\"]][[1]]), \"2021-03-01T01:00:00Z\")))\n",
    "    print(paste0(\"[11] \", identical(as.vector(common.get_apifriendly_time_intervals(\"2021-02\", \"2021-03\")[[\"starttimes\"]][[2]]), \"2021-03-01T02:00:00Z\")))\n",
    "    print(paste0(\"[12] \", identical(as.vector(common.get_apifriendly_time_intervals(\"2021-02\", \"2021-03\")[[\"endtimes\"]][[2]]), \"2021-04-01T01:00:00Z\")))\n",
    "    \n",
    "    #Kun kuukausia on kolme\n",
    "    print(paste0(\"[13] \", identical(as.vector(common.get_apifriendly_time_intervals(\"2021-03\", \"2021-05\")[[\"starttimes\"]][[3]]), \"2021-05-01T02:00:00Z\")))\n",
    "    print(paste0(\"[14] \", identical(as.vector(common.get_apifriendly_time_intervals(\"2021-03\", \"2021-05\")[[\"endtimes\"]][[3]]), \"2021-06-01T01:00:00Z\")))\n",
    "    \n",
    "    #Joukko ei ylitä viimeistä kuukautta, kun pituus vaihtelee\n",
    "    print(paste0(\"[15] \", identical(as.vector(tail(common.get_apifriendly_time_intervals(\"2021-01\", \"2021-05\"), n=1)[[\"endtimes\"]][[1]]), \"2021-06-01T01:00:00Z\")))\n",
    "    print(paste0(\"[16] \", identical(as.vector(tail(common.get_apifriendly_time_intervals(\"2021-01\", \"2021-04\"), n=1)[[\"endtimes\"]][[1]]), \"2021-05-01T01:00:00Z\")))\n",
    "    \n",
    "    #Kun vuosi on eri\n",
    "    print(paste0(\"[17] \", identical(as.vector(common.get_apifriendly_time_intervals(\"2019-01\", \"2019-01\")[[\"starttimes\"]][[1]]), \"2019-01-01T02:00:00Z\")))\n",
    "    print(paste0(\"[18] \", identical(as.vector(common.get_apifriendly_time_intervals(\"2019-01\", \"2019-01\")[[\"endtimes\"]][[1]]), \"2019-02-01T01:00:00Z\")))\n",
    "    \n",
    "    #Vuoden loppu\n",
    "    print(paste0(\"[19] \", identical(as.vector(common.get_apifriendly_time_intervals(\"2019-12\", \"2019-12\")[[\"endtimes\"]][[1]]), \"2020-01-01T01:00:00Z\")))\n",
    "    \n",
    "    #Vuoden loppu, kun aloituskuu ei ole joulukuu\n",
    "    print(paste0(\"[20] \", identical(as.vector(common.get_apifriendly_time_intervals(\"2019-11\", \"2019-12\")[[\"endtimes\"]][[1]]), \"2019-12-01T01:00:00Z\")))\n",
    "    \n",
    "    #Vuoden alku, kun aloituskuu on edellisenä vuonna\n",
    "    print(paste0(\"[21] \", identical(as.vector(common.get_apifriendly_time_intervals(\"2019-12\", \"2020-02\")[[\"starttimes\"]][[2]]), \"2020-01-01T02:00:00Z\")))\n",
    "\n",
    "    #Vuoden loppu, kun lopetuskuukausi on joulukuu\n",
    "    print(paste0(\"[22] \", identical(as.vector(tail(common.get_apifriendly_time_intervals(\"2021-01\", \"2021-12\"), n=1)[[\"endtimes\"]][[1]]), \"2022-01-01T01:00:00Z\")))\n",
    "    \n",
    "    #Lopetusvuosi ennen aloitusvuotta\n",
    "    success <- FALSE\n",
    "    success <- tryCatch({\n",
    "        common.get_apifriendly_time_intervals(\"2021-01\", \"2020-12\")\n",
    "        }, \n",
    "        error = function(e) {\n",
    "            if (identical(geterrmessage(),\"Lopetusvuosi ei voi olla ennen aloitusvuotta.\")) {return (TRUE)}\n",
    "        })\n",
    "    print(paste0(\"[23] \", success))\n",
    "    \n",
    "    #Lopetusaika (kuukausi) ennen aloitusaikaa\n",
    "    success <- FALSE\n",
    "    success <- tryCatch({\n",
    "        common.get_apifriendly_time_intervals(\"2032-05\", \"2032-02\")\n",
    "        }, \n",
    "        error = function(e) {\n",
    "            if (identical(geterrmessage(),\"Lopetuaika ei voi olla ennen aloitusaikaa.\")) {return (TRUE)}\n",
    "        })\n",
    "    suppressWarnings(if(success != TRUE) {success <- FALSE})\n",
    "    print(paste0(\"[24] \", success))\n",
    "    }\n",
    "\n",
    "test.common.get_apifriendly_time_intervals()"
   ]
  },
  {
   "cell_type": "code",
   "execution_count": 16,
   "id": "1e47e0c7-a4d1-45da-9b0e-504402aff05d",
   "metadata": {},
   "outputs": [
    {
     "name": "stdout",
     "output_type": "stream",
     "text": [
      "[1] \"[1] TRUE\"\n"
     ]
    }
   ],
   "source": [
    "test.common.get_filename <- function() {\n",
    "    print(paste0(\"[1] \", identical(common.get_filename(\"Helsinki\", \"2021-01-01T02:00:00Z\", \"2021-02-01T01:00:00Z\")\n",
    "                                                       , \"saatiedot_Helsinki_2021-01-01T020000Z_2021-02-01T010000Z.xml\")))\n",
    "}\n",
    "test.common.get_filename()\n"
   ]
  },
  {
   "cell_type": "code",
   "execution_count": 17,
   "id": "75701b00-4d5c-4352-b558-d6700941b70b",
   "metadata": {},
   "outputs": [
    {
     "name": "stdout",
     "output_type": "stream",
     "text": [
      "[1] \"[1] TRUE\"\n",
      "[1] \"[2] TRUE\"\n"
     ]
    }
   ],
   "source": [
    "test.common.add_filepath <- function() {\n",
    "        print(paste0(\"[1] \", identical(common.add_filepath(\"filename.xml\"), \".\\\\loaded_data\\\\filename.xml\")))\n",
    "        print(paste0(\"[2] \", identical(common.add_filepath(\"filename_with-separators.xml\"), \".\\\\loaded_data\\\\filename_with-separators.xml\")))\n",
    "}\n",
    "\n",
    "test.common.add_filepath()"
   ]
  }
 ],
 "metadata": {
  "kernelspec": {
   "display_name": "R",
   "language": "R",
   "name": "ir"
  },
  "language_info": {
   "codemirror_mode": "r",
   "file_extension": ".r",
   "mimetype": "text/x-r-source",
   "name": "R",
   "pygments_lexer": "r",
   "version": "3.6.1"
  }
 },
 "nbformat": 4,
 "nbformat_minor": 5
}
