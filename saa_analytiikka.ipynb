{
 "cells": [
  {
   "cell_type": "markdown",
   "id": "73117fca-19b1-4161-b730-2a33e3fb41df",
   "metadata": {},
   "source": [
    "# Sää analytiikka"
   ]
  },
  {
   "cell_type": "markdown",
   "id": "4450f1a8-5dd3-449c-978c-9145167839d9",
   "metadata": {},
   "source": [
    "## Poiminta, lataus ja muuntaminen (ELT)\n",
    "### Poimitaan säätiedot (Extract)\n",
    "Poimitaan säätiedot Ilmatieteenlaitoksen API:sta. Tiedot tulevat melko suurissa XML-dokumentteina, jotka tallennetaan tiedostoihin muistin säästämiseksi."
   ]
  },
  {
   "cell_type": "code",
   "execution_count": 1,
   "id": "5d41081f-6a41-4ca2-9c61-4925cca0f746",
   "metadata": {},
   "outputs": [
    {
     "name": "stderr",
     "output_type": "stream",
     "text": [
      "Warning message:\n",
      "\"package 'XML' was built under R version 3.6.3\""
     ]
    }
   ],
   "source": [
    "#install.packages(\"XML\")\n",
    "library(XML)"
   ]
  },
  {
   "cell_type": "code",
   "execution_count": 2,
   "id": "c40d4104-c5a1-4545-a1d1-dda2ce83dae1",
   "metadata": {},
   "outputs": [],
   "source": [
    "get_times_and_destination_files <- function() {\n",
    "    return (data.frame(\n",
    "                starttime = c(\"2021-01-01T02:00:00Z\", \"2021-02-01T02:00:00Z\", \"2021-03-01T02:00:00Z\"\n",
    "                              , \"2021-04-01T02:00:00Z\", \"2021-05-01T02:00:00Z\", \"2021-06-01T02:00:00Z\"),\n",
    "                endtime = c(\"2021-02-01T01:00:00Z\", \"2021-03-01T01:00:00Z\", \"2021-04-01T01:00:00Z\"\n",
    "                            , \"2021-05-01T01:00:00Z\", \"2021-06-01T01:00:00Z\", \"2021-07-01T01:00:00Z\"),\n",
    "                file = c(\"2021_1.xml\", \"2021_2.xml\", \"2021_3.xml\", \"2021_4.xml\", \"2021_5.xml\", \"2021_6.xml\")\n",
    "            ))\n",
    "    }"
   ]
  },
  {
   "cell_type": "code",
   "execution_count": 3,
   "id": "e3c84261-1d77-4283-80f7-00421cefb395",
   "metadata": {},
   "outputs": [],
   "source": [
    "create_source_url <- function(place, starttime, endtime) {\n",
    "    return (paste(\n",
    "                \"http://opendata.fmi.fi/wfs/fin?service=WFS&version=2.0.0&request=GetFeature&storedquery_id=fmi::observations::weather::hourly::simple&place=\"\n",
    "                , place\n",
    "                , \"&starttime=\"\n",
    "                , starttime\n",
    "                , \"&endtime=\"\n",
    "                , endtime\n",
    "                , \"&\", sep=\"\")\n",
    "            )\n",
    "    }"
   ]
  },
  {
   "cell_type": "code",
   "execution_count": 4,
   "id": "0c40846d-e1a4-4502-916b-f84dd876882d",
   "metadata": {},
   "outputs": [],
   "source": [
    "save_xml_from_url <- function(url, destination_file) {\n",
    "    xml.content <- xmlTreeParse(url)\n",
    "    saveXML(xmlRoot(xml.content), file=destination_file)\n",
    "    }"
   ]
  },
  {
   "cell_type": "markdown",
   "id": "bfe1de77-3930-4a9e-b411-a020e551aab7",
   "metadata": {},
   "source": [
    "Data täytyy poimia osissa Ilmatieteenlaitoksen API:n rajoitusten takia"
   ]
  },
  {
   "cell_type": "code",
   "execution_count": 5,
   "id": "68e36d41-3b4d-41f1-b6a0-405479086d0f",
   "metadata": {},
   "outputs": [],
   "source": [
    "xml.url.place = \"Helsinki\"\n",
    "\n",
    "times_and_files <- get_times_and_destination_files()"
   ]
  },
  {
   "cell_type": "code",
   "execution_count": 6,
   "id": "0999a8d2-961a-41bc-b9e7-57d9d359195b",
   "metadata": {},
   "outputs": [],
   "source": [
    "extract_data <- function(times_and_files, xml.url.place) {\n",
    "    load_starttime=Sys.time()\n",
    "    \n",
    "    for (i in 1:nrow(times_and_files)) {\n",
    "        xml.url = create_source_url(place = xml.url.place\n",
    "                                    , starttime = as.character(times_and_files[[\"starttime\"]][i])\n",
    "                                    , endtime = as.character(times_and_files[[\"endtime\"]][i])\n",
    "                                   )\n",
    "        save_xml_from_url(url = xml.url\n",
    "                          , destination_file = paste( \".\\\\loaded_data\\\\\", as.character(times_and_files[[\"file\"]][i]), sep=\"\")\n",
    "                         )\n",
    "    }\n",
    "    \n",
    "    print(Sys.time() - load_starttime)\n",
    "}\n",
    "\n",
    "#Uncomment to load data from Ilmatieteenlaitos API\n",
    "#extract_data(times_and_files, xml.url.place)"
   ]
  },
  {
   "cell_type": "markdown",
   "id": "b4c53406-7ae7-47da-8420-f41a7407b313",
   "metadata": {},
   "source": [
    "### Tietojen lataaminen (Load)\n",
    "Tässä vaiheessa säätiedot on xml-tiedostoina levyllä. Ladataan ne SQL Serverin tietokantaan tauluun."
   ]
  },
  {
   "cell_type": "code",
   "execution_count": 7,
   "id": "7584c0fa-f240-4607-9cd7-489bd3e696ed",
   "metadata": {},
   "outputs": [
    {
     "name": "stderr",
     "output_type": "stream",
     "text": [
      "Warning message:\n",
      "\"package 'odbc' was built under R version 3.6.3\"\n",
      "Attaching package: 'dplyr'\n",
      "\n",
      "The following objects are masked from 'package:stats':\n",
      "\n",
      "    filter, lag\n",
      "\n",
      "The following objects are masked from 'package:base':\n",
      "\n",
      "    intersect, setdiff, setequal, union\n",
      "\n"
     ]
    }
   ],
   "source": [
    "#install.packages(\"odbc\")\n",
    "library(odbc)\n",
    "library(dplyr)"
   ]
  },
  {
   "cell_type": "markdown",
   "id": "49bf415b-9f6a-4f7a-ab58-8ae31dc5dc9f",
   "metadata": {},
   "source": [
    "Windows koneella lisättynä tietokantayhteys SQL Serveriin \"ODBC Data Sources\"-sovelluksesta. Tietokanta on valmiiksi luotuna."
   ]
  },
  {
   "cell_type": "code",
   "execution_count": 8,
   "id": "0f0653ff-7e4a-48f6-b6e2-d288bc0ad6db",
   "metadata": {},
   "outputs": [],
   "source": [
    "data_conn <- DBI::dbConnect(odbc::odbc(), \"DATASOURCE\", database = \"SaaDB\")"
   ]
  },
  {
   "cell_type": "markdown",
   "id": "0b203bdf-2586-4486-bd95-73f3c2d52517",
   "metadata": {},
   "source": [
    "Luodaan tietokannan taulut"
   ]
  },
  {
   "cell_type": "code",
   "execution_count": 9,
   "id": "bb2444da-8b84-432d-8ddd-5d47242fbb50",
   "metadata": {},
   "outputs": [
    {
     "data": {
      "text/html": [
       "0"
      ],
      "text/latex": [
       "0"
      ],
      "text/markdown": [
       "0"
      ],
      "text/plain": [
       "[1] 0"
      ]
     },
     "metadata": {},
     "output_type": "display_data"
    },
    {
     "data": {
      "text/html": [
       "0"
      ],
      "text/latex": [
       "0"
      ],
      "text/markdown": [
       "0"
      ],
      "text/plain": [
       "[1] 0"
      ]
     },
     "metadata": {},
     "output_type": "display_data"
    }
   ],
   "source": [
    "create_table_saatiedot_raaka <- function() {\n",
    "    fields_raaka <- c('INT IDENTITY(1,1) NOT NULL', 'VARCHAR(50) NOT NULL', 'DATETIME NOT NULL', 'VARCHAR(20) NOT NULL', 'VARCHAR(20)')\n",
    "    names(fields_raaka) <- c('ID', 'PAIKKA', 'AIKA', 'PARAMETRIN_NIMI', 'PARAMETRIN_ARVO')\n",
    "    \n",
    "    DBI::dbCreateTable(data_conn, \"SAATIEDOT_RAAKA\", fields_raaka)\n",
    "    DBI::dbExecute(data_conn, 'ALTER TABLE SAATIEDOT_RAAKA ADD CONSTRAINT [SAATIEDOT_RAAKA_PK] PRIMARY KEY ([ID])')\n",
    "    }\n",
    "\n",
    "#Poista tarvittaessa taulu\n",
    "DBI::dbExecute(data_conn, 'DROP TABLE SAATIEDOT_RAAKA')\n",
    "create_table_saatiedot_raaka()"
   ]
  },
  {
   "cell_type": "markdown",
   "id": "6f2edd91-1166-4eac-b447-62c37b200fef",
   "metadata": {},
   "source": [
    "Haetaan tiedot XML-tiedostoista ja tallennetaan ne tauluun."
   ]
  },
  {
   "cell_type": "code",
   "execution_count": 10,
   "id": "99562608-030c-4cb6-b6b3-092cdca21880",
   "metadata": {},
   "outputs": [],
   "source": [
    "saatiedot_raaka <- DBI::dbReadTable(data_conn, \"SAATIEDOT_RAAKA\")\n",
    "saatiedot_raaka <- subset(saatiedot_raaka, select=-c(ID))"
   ]
  },
  {
   "cell_type": "code",
   "execution_count": 11,
   "id": "d0428ab2-2119-4245-8eee-d31a3a5afce9",
   "metadata": {},
   "outputs": [
    {
     "data": {
      "text/html": [
       "<dl class=dl-horizontal>\n",
       "\t<dt>wfs</dt>\n",
       "\t\t<dd>'http://www.opengis.net/wfs/2.0'</dd>\n",
       "\t<dt>BsWfs</dt>\n",
       "\t\t<dd>'http://xml.fmi.fi/schema/wfs/2.0'</dd>\n",
       "\t<dt>gml</dt>\n",
       "\t\t<dd>'http://www.opengis.net/gml/3.2'</dd>\n",
       "</dl>\n"
      ],
      "text/latex": [
       "\\begin{description*}\n",
       "\\item[wfs] 'http://www.opengis.net/wfs/2.0'\n",
       "\\item[BsWfs] 'http://xml.fmi.fi/schema/wfs/2.0'\n",
       "\\item[gml] 'http://www.opengis.net/gml/3.2'\n",
       "\\end{description*}\n"
      ],
      "text/markdown": [
       "wfs\n",
       ":   'http://www.opengis.net/wfs/2.0'BsWfs\n",
       ":   'http://xml.fmi.fi/schema/wfs/2.0'gml\n",
       ":   'http://www.opengis.net/gml/3.2'\n",
       "\n"
      ],
      "text/plain": [
       "                               wfs                              BsWfs \n",
       "  \"http://www.opengis.net/wfs/2.0\" \"http://xml.fmi.fi/schema/wfs/2.0\" \n",
       "                               gml \n",
       "  \"http://www.opengis.net/gml/3.2\" "
      ]
     },
     "metadata": {},
     "output_type": "display_data"
    }
   ],
   "source": [
    "namespaces <- c(wfs='http://www.opengis.net/wfs/2.0', BsWfs='http://xml.fmi.fi/schema/wfs/2.0', gml='http://www.opengis.net/gml/3.2')\n",
    "namespaces"
   ]
  },
  {
   "cell_type": "code",
   "execution_count": 12,
   "id": "fd91cb73-878a-4c0f-9312-b20ee2db6e41",
   "metadata": {},
   "outputs": [
    {
     "name": "stdout",
     "output_type": "stream",
     "text": [
      "<BsWfs:BsWfsElement id=\"BsWfsElement.1.667.8\">\n",
      "  <BsWfs:Location>\n",
      "    <gml:Point id=\"BsWfsElementP.1.667.8\" srsDimension=\"2\" srsName=\"http://www.opengis.net/def/crs/EPSG/0/4258\">\n",
      "      <gml:pos>60.17523 24.94459</gml:pos>\n",
      "    </gml:Point>\n",
      "  </BsWfs:Location>\n",
      "  <BsWfs:Time>2021-01-28T20:00:00Z</BsWfs:Time>\n",
      "  <BsWfs:ParameterName>WD_PT1H_AVG</BsWfs:ParameterName>\n",
      "  <BsWfs:ParameterValue>50.0</BsWfs:ParameterValue>\n",
      "</BsWfs:BsWfsElement> \n"
     ]
    }
   ],
   "source": [
    "xml.content = xmlParse(file = paste( \".\\\\loaded_data\\\\\", as.character(times_and_files[[\"file\"]][1]), sep=\"\"))\n",
    "rootnode = xmlRoot(xml.content)\n",
    "print(rootnode[[8000]][[1]])"
   ]
  },
  {
   "cell_type": "code",
   "execution_count": 13,
   "id": "fb888714-ee4c-40a1-a0a5-2f8bbda6ed3d",
   "metadata": {},
   "outputs": [],
   "source": [
    "convert_time_to_posixct <- function(time) {\n",
    "    modified_time <- sub('T', ' ', time)\n",
    "    #modified_time <- as.POSIXct(modified_time, tz='UTC', origin=modified_time)\n",
    "    modified_time\n",
    "    } "
   ]
  },
  {
   "cell_type": "code",
   "execution_count": 14,
   "id": "fc08c539-f2a4-4175-a4ed-c5351e01d308",
   "metadata": {},
   "outputs": [
    {
     "name": "stdout",
     "output_type": "stream",
     "text": [
      "Time difference of 2.284286 mins\n"
     ]
    }
   ],
   "source": [
    "load_data_to_dbtable <- function() {\n",
    "    load_starttime=Sys.time()\n",
    "\n",
    "    for (i in 1:nrow(times_and_files)) {\n",
    "        xml.content = xmlParse(file = paste( \".\\\\loaded_data\\\\\", as.character(times_and_files[[\"file\"]][i]), sep=\"\"))\n",
    "        rootnode = xmlRoot(xml.content)\n",
    "        for (j in 1:xmlSize(rootnode)) {\n",
    "            result.time <- convert_time_to_posixct(xpathApply(rootnode[[j]][[1]],path='BsWfs:Time',xmlValue,namespaces=namespaces))\n",
    "            result.location <- xpathApply(rootnode[[j]][[1]],path='BsWfs:Location//gml:Point//gml:pos',xmlValue,namespaces=namespaces)\n",
    "            result.parametername <- xpathApply(rootnode[[j]][[1]],path='BsWfs:ParameterName',xmlValue,namespaces=namespaces)\n",
    "            result.parametervalue <- xpathApply(rootnode[[j]][[1]],path='BsWfs:ParameterValue',xmlValue,namespaces=namespaces)\n",
    "\n",
    "            saatiedot_raaka[nrow(saatiedot_raaka)+1,] <- c(paikka=result.location, aika=result.time, parametrin_nimi=result.parametername, parametrin_arvo=result.parametervalue)\n",
    "\n",
    "            if(nrow(saatiedot_raaka) >= 1000) {\n",
    "                DBI::dbAppendTable(data_conn, \"SAATIEDOT_RAAKA\",saatiedot_raaka)\n",
    "                saatiedot_raaka <- subset(saatiedot_raaka, 1==0) \n",
    "            }\n",
    "        }\n",
    "    }\n",
    "    DBI::dbAppendTable(data_conn, \"SAATIEDOT_RAAKA\",saatiedot_raaka)\n",
    "\n",
    "    print(Sys.time() - load_starttime)\n",
    "    }\n",
    "\n",
    "load_data_to_dbtable()"
   ]
  },
  {
   "cell_type": "markdown",
   "id": "4b475b2e-89c5-4e33-a35d-1a23342e080e",
   "metadata": {},
   "source": [
    "### Tietojen muuntaminen (Transform)\n",
    "Muunnetaan tiedot helpommin käsiteltävään taulurakenteeseen."
   ]
  }
 ],
 "metadata": {
  "kernelspec": {
   "display_name": "R",
   "language": "R",
   "name": "ir"
  },
  "language_info": {
   "codemirror_mode": "r",
   "file_extension": ".r",
   "mimetype": "text/x-r-source",
   "name": "R",
   "pygments_lexer": "r",
   "version": "3.6.1"
  }
 },
 "nbformat": 4,
 "nbformat_minor": 5
}
